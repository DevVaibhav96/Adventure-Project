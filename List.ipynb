{
  "nbformat": 4,
  "nbformat_minor": 0,
  "metadata": {
    "colab": {
      "provenance": [],
      "authorship_tag": "ABX9TyMRDvmJuH/t+hPOIE8L+UbB",
      "include_colab_link": true
    },
    "kernelspec": {
      "name": "python3",
      "display_name": "Python 3"
    },
    "language_info": {
      "name": "python"
    }
  },
  "cells": [
    {
      "cell_type": "markdown",
      "metadata": {
        "id": "view-in-github",
        "colab_type": "text"
      },
      "source": [
        "<a href=\"https://colab.research.google.com/github/DevVaibhav96/Adventure-Project/blob/main/List.ipynb\" target=\"_parent\"><img src=\"https://colab.research.google.com/assets/colab-badge.svg\" alt=\"Open In Colab\"/></a>"
      ]
    },
    {
      "cell_type": "code",
      "source": [
        "pip install pyspark"
      ],
      "metadata": {
        "colab": {
          "base_uri": "https://localhost:8080/"
        },
        "id": "WxSeQhOGcp3Z",
        "outputId": "9699acb0-8990-4192-f0ca-82405ae1bbcc"
      },
      "execution_count": null,
      "outputs": [
        {
          "output_type": "stream",
          "name": "stdout",
          "text": [
            "Requirement already satisfied: pyspark in /usr/local/lib/python3.11/dist-packages (3.5.1)\n",
            "Requirement already satisfied: py4j==0.10.9.7 in /usr/local/lib/python3.11/dist-packages (from pyspark) (0.10.9.7)\n"
          ]
        }
      ]
    },
    {
      "cell_type": "code",
      "execution_count": null,
      "metadata": {
        "id": "LI992csBqijE"
      },
      "outputs": [],
      "source": [
        "#Method\tSyntax\tUse / Description\n",
        "1)\tappend()\tlist.append(element)\t        Adds a single element to the end of the list\n",
        "2)\textend()\tlist.extend(iterable)\t        Adds all elements of an iterable (like list, tuple) to the end of the list\n",
        "3)\tinsert()\tlist.insert(index, value)\t    Inserts an element at the specified index position\n",
        "4)\tremove()\tlist.remove(value)\t          Removes the first occurrence of a value\n",
        "5)\tpop()\t    list.pop(index)\t              Removes and returns the element at the given index. If no index, removes last element\n",
        "6)\tclear()\t  list.clear()\t                Removes all elements from the list\n",
        "7)\tindex()\t  list.index(value)\t            Returns the index of the first occurrence of the value\n",
        "8)\tcount()\t  list.count(value)\t            Returns the number of times a value appears in the list\n",
        "9)\tsort()\t  list.sort()\t                  Sorts the list in ascending order (modifies in place)\n",
        "10)\treverse()\tlist.reverse()\t              Reverses the elements of the list in place\n",
        "11)\tcopy()\t  list.copy()\t                  Returns a shallow copy of the list\n"
      ]
    },
    {
      "cell_type": "code",
      "source": [
        "my_list = [10, \"apple\", [5, 6], \"banana\", 20, (1, 2), \"apple\", 10]\n",
        "print(\"Initial List:\", my_list)\n",
        "\n",
        "my_list.append(\"cherry\")\n",
        "print(\"After append('cherry'):\", my_list)\n",
        "\n",
        "my_list.extend([\"grape\", 99])\n",
        "print(\"After extend(['grape', 99]):\", my_list)\n",
        "\n",
        "my_list.insert(2, \"inserted\")\n",
        "print(\"After insert(2, 'inserted'):\", my_list)\n",
        "\n",
        "my_list.remove(\"apple\")\n",
        "print(\"After remove('apple'):\", my_list)\n",
        "\n",
        "popped_item = my_list.pop(3)\n",
        "print(\"After pop(3):\", my_list)\n",
        "print(\"Popped Item:\", popped_item)\n",
        "\n",
        "copied_list = my_list.copy()\n",
        "my_list.clear()\n",
        "print(\"After clear():\", my_list)\n",
        "\n",
        "print(\"\\nWorking on copied list:\", copied_list)\n",
        "\n",
        "apple_index = copied_list.index(\"apple\")\n",
        "print(\"Index of 'apple':\", apple_index)\n",
        "\n",
        "apple_count = copied_list.count(\"apple\")\n",
        "print(\"Count of 'apple':\", apple_count)\n",
        "\n",
        "int_list = [item for item in copied_list if type(item) == int]\n",
        "int_list.sort()\n",
        "print(\"Sorted list of integers:\", int_list)\n",
        "\n",
        "copied_list.reverse()\n",
        "print(\"After reverse():\", copied_list)\n",
        "\n",
        "new_copy = copied_list.copy()\n",
        "print(\"Shallow copy of copied_list:\", new_copy)\n"
      ],
      "metadata": {
        "id": "mkPdLoqTxRO8"
      },
      "execution_count": null,
      "outputs": []
    },
    {
      "cell_type": "code",
      "source": [
        "# Creating a complex list with mixed types: integers, strings, sublists, tuples\n",
        "my_list = [10, 'Apple', [5, 6], 'Banana', '20', (3, 5, 2), (7, 5, 2),'Apple',10]\n",
        "\n",
        "print(\"Initial list: \", my_list)\n",
        "\n",
        "#1 Append(x): A add an item to the end of list\n",
        "my_list.append(\"Cherry\")\n",
        "print(\"Ater append(cherry): \", my_list)\n",
        "\n",
        "#2) extend(iterable) - Extend list by appending elements from an iterable\n",
        "my_list.extend(['grape', 991])\n",
        "print(\"After extend(['Grape', 991]): \", my_list)\n",
        "\n",
        "# 3. insert(i, x) – Insert item x at position i\n",
        "my_list.insert(2, \"inserted\")\n",
        "print(\"After insert(2, 'inserted'): \", my_list)\n",
        "\n",
        "# 4. remove(x) – Remove first occurrence of value x\n",
        "my_list.remove(\"Apple\")\n",
        "print(\"Afer remove(Apple):\", my_list)\n",
        "# 5. pop([i]) – Remove and return item at index i (or last if not specified)\n",
        "popped_item = my_list.pop(3)\n",
        "print(\"After pop(3): \", my_list)\n",
        "print(\"Popped item: \", popped_item)\n",
        "\n",
        "# 6. clear() – Remove all items from the list\n",
        "copied_list = my_list.copy() # Save a copy before clearing for further methods\n",
        "my_list.clear()\n",
        "print(\"Afer clear(): \", my_list)\n",
        "\n",
        "#Continue with copied_list for rest of the methods\n",
        "print(\"\\n working on copied list:\", copied_list)\n",
        "\n",
        "# 7. index(x) – Return first index of value x\n",
        "apple_index = copied_list.index(\"Apple\")\n",
        "print(\"Index of 'Apple': \", apple_index)\n",
        "\n",
        "#8. count(x) – Return number of times x appears in list\n",
        "count_10 = copied_list.count(10)\n",
        "print(\"Count of 10 is: \", count_10)\n",
        "\n",
        "# 9. sort() – Sort the list in ascending order (only works with uniform types)\n",
        "\n",
        "#list comprehension:List comprehension is a short and elegant way to create a new list\n",
        "#by applying a loop and condition in one line.\n",
        "#It replaces the longer for loop method for creating lists.\n",
        "\n",
        "#✅Syntax: new_list = [expression for item in iterable if condition]\n",
        "\n",
        "      #expression ---> Operation to perform on each item\n",
        "      #item ---> Current element from the iterable\n",
        "      #iterable ---> Any sequence like list, tuple, range, etc.\n",
        "      #condition---> (Optional) Only include the item if True\n",
        "\n",
        "#int_list = [item dor item in copied_list if type(item) == int]\n",
        "int_list = [i for i in copied_list if type(i) == int]\n",
        "int_list.sort()\n",
        "print(\"Sorted list of integers:\", int_list)\n",
        "\n",
        "new_list = [i for i in copied_list if type(i) == tuple ]\n",
        "new_list.sort()\n",
        "print('Sorted tuple element is: ', new_list)\n",
        "\n",
        "# 10. reverse() – Reverse the elements of the list in place\n",
        "copied_list.reverse()\n",
        "print(\"After reverse(): \", copied_list)\n",
        "\n",
        "# 11. copy() – Return a shallow copy of the list\n",
        "new_copy = copied_list.copy()\n",
        "print(\"Shallow copy of copied_list: \", new_copy)\n"
      ],
      "metadata": {
        "colab": {
          "base_uri": "https://localhost:8080/"
        },
        "id": "5l6k1ykeylW0",
        "outputId": "d6108e3d-479f-482f-ee8d-3589125fa6b3"
      },
      "execution_count": null,
      "outputs": [
        {
          "output_type": "stream",
          "name": "stdout",
          "text": [
            "Initial list:  [10, 'Apple', [5, 6], 'Banana', '20', (3, 5, 2), (7, 5, 2), 'Apple', 10]\n",
            "Ater append(cherry):  [10, 'Apple', [5, 6], 'Banana', '20', (3, 5, 2), (7, 5, 2), 'Apple', 10, 'Cherry']\n",
            "After extend(['Grape', 991]):  [10, 'Apple', [5, 6], 'Banana', '20', (3, 5, 2), (7, 5, 2), 'Apple', 10, 'Cherry', 'grape', 991]\n",
            "After insert(2, 'inserted'):  [10, 'Apple', 'inserted', [5, 6], 'Banana', '20', (3, 5, 2), (7, 5, 2), 'Apple', 10, 'Cherry', 'grape', 991]\n",
            "Afer remove(Apple): [10, 'inserted', [5, 6], 'Banana', '20', (3, 5, 2), (7, 5, 2), 'Apple', 10, 'Cherry', 'grape', 991]\n",
            "After pop(3):  [10, 'inserted', [5, 6], '20', (3, 5, 2), (7, 5, 2), 'Apple', 10, 'Cherry', 'grape', 991]\n",
            "Popped item:  Banana\n",
            "Afer clear():  []\n",
            "\n",
            " working on copied list: [10, 'inserted', [5, 6], '20', (3, 5, 2), (7, 5, 2), 'Apple', 10, 'Cherry', 'grape', 991]\n",
            "Index of 'Apple':  6\n",
            "Count of 10 is:  2\n",
            "Sorted list of integers: [10, 10, 991]\n",
            "Sorted tuple element is:  [(3, 5, 2), (7, 5, 2)]\n",
            "After reverse():  [991, 'grape', 'Cherry', 10, 'Apple', (7, 5, 2), (3, 5, 2), '20', [5, 6], 'inserted', 10]\n",
            "Shallow copy of copied_list:  [991, 'grape', 'Cherry', 10, 'Apple', (7, 5, 2), (3, 5, 2), '20', [5, 6], 'inserted', 10]\n"
          ]
        }
      ]
    },
    {
      "cell_type": "code",
      "source": [
        "#01 creating a list in python\n",
        "\n",
        "empty_list = []\n",
        "print(empty_list)\n",
        "print(type(empty_list))\n",
        "\n",
        "# 02) list with elements\n",
        "\n",
        "num = [4, 5, 6, 8, 9]\n",
        "print(num)\n",
        "\n",
        "#03) list as function\n",
        "print(\"list as function\")\n",
        "empty_list = list()\n",
        "print(empty_list)\n",
        "print(type(empty_list))\n",
        "\n",
        "#04)  duplicates in list\n",
        "duplicates = [10, 33, 20, 34, 10, 20, 45, 45]\n",
        "print(duplicates)\n",
        "print(type(duplicates))\n",
        "\n",
        "#05) iterating over a list using loop\n",
        "\n",
        "num = [1, 4, 40, 50, 30]\n",
        "for i in num:\n",
        "    print(i)\n",
        "\n",
        "num2 = ['Saurya', 'Madam', \"Tanmay\", 'Mandar']\n",
        "for j in num2:\n",
        "  print(j)\n",
        "\n",
        "\n",
        "\n",
        "\n"
      ],
      "metadata": {
        "colab": {
          "base_uri": "https://localhost:8080/"
        },
        "id": "UOQXcoRaDlxd",
        "outputId": "8c059c44-674d-4e07-b9cc-cd9c8b6cbabb"
      },
      "execution_count": null,
      "outputs": [
        {
          "output_type": "stream",
          "name": "stdout",
          "text": [
            "[]\n",
            "<class 'list'>\n",
            "[4, 5, 6, 8, 9]\n",
            "list as function\n",
            "[]\n",
            "<class 'list'>\n",
            "[10, 33, 20, 34, 10, 20, 45, 45]\n",
            "<class 'list'>\n",
            "1\n",
            "4\n",
            "40\n",
            "50\n",
            "30\n",
            "Saurya\n",
            "Madam\n",
            "Tanmay\n",
            "Mandar\n"
          ]
        }
      ]
    },
    {
      "cell_type": "code",
      "source": [
        "#06) list operator\n",
        "\n",
        "d1 = [10, 30]\n",
        "d2 = [10, 30, 40, 20]\n",
        "d3 = [15, 45]\n",
        "\n",
        "# addition\n",
        "print(d1 + d2)\n",
        "print(d2 + d3)\n",
        "\n",
        "#multiplication\n",
        "print(\"multiply d2: \", d2*2)\n",
        "print(\"Multiply d3: \", d3*3)\n",
        "\n",
        "#membership check\n",
        "print(40 in d2) # True\n",
        "print(11 in d1) # False\n",
        "\n",
        "#Equality operator\n",
        "print(d1 == d2) # False\n",
        "print(d1 != d2) # True\n",
        "\n"
      ],
      "metadata": {
        "colab": {
          "base_uri": "https://localhost:8080/"
        },
        "id": "ehJIlMs5KtmA",
        "outputId": "389720a8-2932-49b7-93e9-be769d4c3e9a"
      },
      "execution_count": null,
      "outputs": [
        {
          "output_type": "stream",
          "name": "stdout",
          "text": [
            "[10, 30, 10, 30, 40, 20]\n",
            "[10, 30, 40, 20, 15, 45]\n",
            "multiply d2:  [10, 30, 40, 20, 10, 30, 40, 20]\n",
            "Multiply d3:  [15, 45, 15, 45, 15, 45]\n",
            "True\n",
            "False\n",
            "False\n",
            "True\n"
          ]
        }
      ]
    },
    {
      "cell_type": "code",
      "source": [
        "# (If You Want Element-wise Multiplication):\n",
        "\n",
        "list1 = [5, 10, 2]\n",
        "list2 = [2, 3, 4]\n",
        "\n",
        "\n",
        "#✅ 1. Using List Comprehension\n",
        "#✅Syntax: new_list = [expression for item in iterable if condition]\n",
        "\n",
        "multiply_com = [a * b for a, b in zip(list1, list2)]  #zip(list1, list2) joins both lists element by element as pairs (tuples).\n",
        "\n",
        "\n",
        "print(\"By List Comprehension Multiply_com:\", multiply_com)\n",
        "\n",
        "#✅ 2. Using a For Loop\n",
        "multiply_loop = []          # Empty list to store the results\n",
        "for i in range(len(list1)):   # range(3) → 0, 1, 2 (indexes)\n",
        "  multiply_loop.append(list1[i] * list2[i])\n",
        "  #Here, you are calculating a product (list1[i] * list2[i]) and then adding that number to the new list\n",
        "\n",
        "print(\"BY using for loop, multiply_loop:\", multiply_loop)\n",
        "\n",
        "\n",
        "#✅3. Using NumPy (Best for performance and large data)\n",
        "\n",
        "import numpy as np                            # Import NumPy library\n",
        "multiply_numpy = np.multiply(list1, list2)    # Multiply corresponding elements of list1 and list2 using NumPy\n",
        "result = multiply_numpy.tolist()              # Convert NumPy array back to a normal Python list #array([10, 30, 8]) → [10, 30, 8]\n",
        "print(\"Using NumPy multiply_numpy:\", result)\n",
        "\n",
        "#✅4 : Unequal Length Lists → Multiply till shortest\n",
        "L1 = [5, 10, 10, 20] # Extra element ignored\n",
        "L2 = [2, 4, 6]\n",
        "  # List Comprehension also applying conditional\n",
        "\n",
        "result = [a * b for a, b in zip(L1, L2) if a > 5]\n",
        "zipped_list = list(zip(L1, L2)) # zip(L1, L2) joins both lists element by element as pairs (tuples).\n",
        "\n",
        "print(\"print(zipped_list):\", zipped_list)\n",
        "\n",
        "print(\"Unequal Length Lists\", result)\n",
        "\n",
        "#✅5: Using RDD:\n",
        "\n",
        "from pyspark import SparkContext\n",
        "sc = SparkContext.getOrCreate()\n",
        "\n",
        "L1 = [5, 10, 10] # Extra element ignored use\n",
        "L2 = [2, 4, 6]\n",
        "\n",
        "rdd1 = sc.parallelize(L1)\n",
        "rdd2 = sc.parallelize(L2)\n",
        "\n",
        "result_rdd =rdd1.zip(rdd2).map(lambda x: x[0] * x[1])\n",
        "print(\"Rdd: \",result_rdd.collect())\n",
        "#Each x is a tuple like (5, 2), where x[0] is the first value (5), x[1] is the second value (2), and x[0] * x[1] multiplies them (5 * 2 = 10).\n",
        "\n"
      ],
      "metadata": {
        "colab": {
          "base_uri": "https://localhost:8080/"
        },
        "id": "d8hDt8u4LZTP",
        "outputId": "5a05c258-f571-47f9-c17f-bb2d57ee043b"
      },
      "execution_count": null,
      "outputs": [
        {
          "output_type": "stream",
          "name": "stdout",
          "text": [
            "By List Comprehension Multiply_com: [10, 30, 8]\n",
            "BY using for loop, multiply_loop: [10, 30, 8]\n",
            "Using NumPy multiply_numpy: [10, 30, 8]\n",
            "print(zipped_list): [(5, 2), (10, 4), (10, 6)]\n",
            "Unequal Length Lists [40, 60]\n",
            "Rdd:  [10, 40, 60]\n"
          ]
        }
      ]
    },
    {
      "cell_type": "code",
      "source": [
        "# Accessing element of the list\n",
        "\n",
        "list = [2, 5, 6, 7, 10]\n",
        "\n",
        "#listname[index position of element]\n",
        "\n",
        "# Accessing  first element\n",
        "print(list[0])\n",
        "\n",
        "#Accessing  3rd element\n",
        "print(list[2])\n",
        "\n"
      ],
      "metadata": {
        "colab": {
          "base_uri": "https://localhost:8080/"
        },
        "id": "E2GNMEaCcnt0",
        "outputId": "c92bfe87-d153-421e-c254-da9a723e9a30"
      },
      "execution_count": null,
      "outputs": [
        {
          "output_type": "stream",
          "name": "stdout",
          "text": [
            "2\n",
            "6\n"
          ]
        }
      ]
    },
    {
      "cell_type": "code",
      "source": [
        "# p8: List of programming languages\n",
        "lang = ['python', 'cobol', 'java', 'javascript', 'c++', 'swift']\n",
        "\n",
        "# ✅ Accessing first element using positive index\n",
        "print(\"lang[0] =\", lang[0])      # Output: python\n",
        "\n",
        "# ✅ Accessing last element using negative index\n",
        "print(\"lang[-1] =\", lang[-1])    # Output: swift\n",
        "\n",
        "# ✅ Accessing second last element\n",
        "print(\"lang[-2] =\", lang[-2])    # Output: c++\n",
        "\n",
        "# ✅ Accessing third last element\n",
        "print(\"lang[-3] =\", lang[-3])    # Output: javascript\n"
      ],
      "metadata": {
        "colab": {
          "base_uri": "https://localhost:8080/"
        },
        "id": "53uhHQQPfwqH",
        "outputId": "b6f511ad-1694-483c-a35d-3689ffab7d23"
      },
      "execution_count": null,
      "outputs": [
        {
          "output_type": "stream",
          "name": "stdout",
          "text": [
            "lang[0] = python\n",
            "lang[-1] = swift\n",
            "lang[-2] = c++\n",
            "lang[-3] = javascript\n"
          ]
        }
      ]
    },
    {
      "cell_type": "code",
      "source": [
        "# ✅9)List  Slicing in Python\n",
        "# ✅ Create a list of days\n",
        "'''Slicing means extracting a portion (part) of a list, string, or tuple using the colon : operator.'''\n",
        "'''\n",
        "start: Starting index (included)\n",
        "\n",
        "stop: Stopping index (excluded)\n",
        "\n",
        "step: Gap between elements (can be positive or negative)\n",
        "\n",
        "'''\n",
        "days = ['Mon', 'Tue', 'Wed', 'Thu', 'Fri', 'Sat', 'Sun']\n",
        "\n",
        "#Index:     0      1      2      3      4      5      6      → Positive Index\n",
        "#Index:    -7     -6     -5     -4     -3     -2     -1      → Negative Index\n",
        "\n",
        "# ✅ Rule: days[start:stop:step] → Start is inclusive, Stop is exclusive\n",
        "\n",
        "# ➤ Step 1: Slice from index 1 to 5\n",
        "print(\"Step 1:\", days[1:6])         # ['Tue', 'Wed', 'Thu', 'Fri', 'Sat']\n",
        "\n",
        "# ➤ Step 2: Slice from index 1 to 6 with step 2\n",
        "print(\"Step 2:\", days[1:6:2])       # ['Tue', 'Thu', 'Sat']\n",
        "\n",
        "# ➤ Step 3: Slice entire list with step 3\n",
        "print(\"Step 3:\", days[::3])         # ['Mon', 'Thu', 'Sun']\n",
        "\n",
        "# ➤ Step 4: Slice from index 0 to 5 with step 2\n",
        "print(\"Step 4:\", days[0:6:2])       # ['Mon', 'Wed', 'Fri']\n",
        "\n",
        "# ➤ Step 5: Slice list in reverse (last to first)\n",
        "print(\"Step 5:\", days[::-1])        # ['Sun', 'Sat', 'Fri', 'Thu', 'Wed', 'Tue', 'Mon']\n",
        "\n",
        "# ➤ Step 6: Slice from index 6 to 0 with step -2\n",
        "print(\"Step 6:\", days[6:0:-2])      # ['Sun', 'Fri', 'Wed', 'Tue']\n",
        "\n",
        "\n"
      ],
      "metadata": {
        "colab": {
          "base_uri": "https://localhost:8080/"
        },
        "id": "kNq0K0Mrk_oq",
        "outputId": "846e0110-a2ea-4b6b-c666-08f9ef6dafcb"
      },
      "execution_count": null,
      "outputs": [
        {
          "output_type": "stream",
          "name": "stdout",
          "text": [
            "Step 1: ['Tue', 'Wed', 'Thu', 'Fri', 'Sat']\n",
            "Step 2: ['Tue', 'Thu', 'Sat']\n",
            "Step 3: ['Mon', 'Thu', 'Sun']\n",
            "Step 4: ['Mon', 'Wed', 'Fri']\n",
            "Step 5: ['Sun', 'Sat', 'Fri', 'Thu', 'Wed', 'Tue', 'Mon']\n",
            "Step 6: ['Sun', 'Fri', 'Wed']\n"
          ]
        }
      ]
    },
    {
      "cell_type": "code",
      "source": [
        "days = ['Mon', 'Tue', 'Wed', 'Thu', 'Fri', 'Sat', 'Sun']\n",
        "\n",
        "# Index:     0      1      2      3      4      5      6      → Positive Index\n",
        "# Index:    -7     -6     -5     -4     -3     -2     -1      → Negative Index\n",
        "\n",
        "print(\"Step 1: Slice the list from index 1 to 5 →\", days[1:6])              # ['Tue', 'Wed', 'Thu', 'Fri', 'Sat']\n",
        "print(\"Step 2: Slice from index 1 to 6 with step 2 →\", days[1:6:2])         # ['Tue', 'Thu', 'Sat']\n",
        "print(\"Step 3: Slice the entire list with step 3 →\", days[::3])            # ['Mon', 'Thu', 'Sun']\n",
        "print(\"Step 4: Slice from index 0 to 5 with step 2 →\", days[0:6:2])         # ['Mon', 'Wed', 'Fri']\n",
        "print(\"Step 5: Slice the list in reverse order →\", days[::-1])             # ['Sun', 'Sat', 'Fri', 'Thu', 'Wed', 'Tue', 'Mon']\n",
        "print(\"Step 6: Slice from index 6 to 0 with step -2 →\", days[6:0:-2])       # ['Sun', 'Fri', 'Wed']\n"
      ],
      "metadata": {
        "colab": {
          "base_uri": "https://localhost:8080/"
        },
        "id": "Z4tJvHKTn06P",
        "outputId": "65f11c16-8529-49bb-abe8-2dfb69ccba1d"
      },
      "execution_count": null,
      "outputs": [
        {
          "output_type": "stream",
          "name": "stdout",
          "text": [
            "Step 1: Slice the list from index 1 to 5 → ['Tue', 'Wed', 'Thu', 'Fri', 'Sat']\n",
            "Step 2: Slice from index 1 to 6 with step 2 → ['Tue', 'Thu', 'Sat']\n",
            "Step 3: Slice the entire list with step 3 → ['Mon', 'Thu', 'Sun']\n",
            "Step 4: Slice from index 0 to 5 with step 2 → ['Mon', 'Wed', 'Fri']\n",
            "Step 5: Slice the list in reverse order → ['Sun', 'Sat', 'Fri', 'Thu', 'Wed', 'Tue', 'Mon']\n",
            "Step 6: Slice from index 6 to 0 with step -2 → ['Sun', 'Fri', 'Wed']\n"
          ]
        }
      ]
    },
    {
      "cell_type": "code",
      "source": [
        "#9 ✅ List Slicing in Python\n",
        "# Create a list of alphabets\n",
        "a = ['p',  'q',  'r',  's',  't',  'u',  'v',  'w',  'x',  'y',  'z']\n",
        "#Index:0    1    2    3    4    5    6    7    8    9   10   → Positive Index # left to right.\n",
        "#Index:-11 -10  -9   -8   -7   -6   -5   -4   -3   -2   -1   → Negative Index # right to left.\n",
        "\n",
        "# ✅ Rule: a[start:stop] —> Start is inclusive, Stop is exclusive\n",
        "\n",
        "# ➤ Step 2: Slice from index 1 to 9\n",
        "print(a[1:10])        # ['q', 'r', 's', 't', 'u', 'v', 'w', 'x', 'y']\n",
        "\n",
        "# ➤ Step 3: Slice from index 1 to 9 with step 2\n",
        "print(a[1:10:2])      # ['q', 's', 'u', 'w', 'y']\n",
        "\n",
        "# ➤ Step 4: Slice from start to end with step 3\n",
        "print(a[::3])         # ['p', 's', 'v', 'y']\n",
        "\n",
        "# ➤ Step 5: Slice from index 2 to 8 with step 2\n",
        "print(a[2:9:2])       # ['r', 't', 'v', 'x']\n",
        "\n",
        "# ✅ Rule: Negative step → slicing in reverse direction\n",
        "\n",
        "# ➤ Step 6: Slice entire list in reverse order\n",
        "print(a[::-1])        # ['z', 'y', 'x', 'w', 'v', 'u', 't', 's', 'r', 'q', 'p']\n",
        "\n",
        "# ➤ Step 7: Slice from index 10 to 0 in reverse with step -2\n",
        "print(a[10:0:-2])     # ['z', 'x', 'v', 't', 'r']\n",
        "\n"
      ],
      "metadata": {
        "colab": {
          "base_uri": "https://localhost:8080/"
        },
        "id": "LTFrzCYshCTt",
        "outputId": "939c279a-bd45-4881-cdf4-a707bfb46ae3"
      },
      "execution_count": null,
      "outputs": [
        {
          "output_type": "stream",
          "name": "stdout",
          "text": [
            "['q', 'r', 's', 't', 'u', 'v', 'w', 'x', 'y']\n",
            "['q', 's', 'u', 'w', 'y']\n",
            "['p', 's', 'v', 'y']\n",
            "['r', 't', 'v', 'x']\n",
            "['z', 'y', 'x', 'w', 'v', 'u', 't', 's', 'r', 'q', 'p']\n",
            "['z', 'x', 'v', 't', 'r']\n"
          ]
        }
      ]
    },
    {
      "cell_type": "code",
      "source": [
        "'''\n",
        "1. Slice from index 1 to 9\n",
        "2. Slice from index 1 to 9 with step 2\n",
        "3. Slice from start to end with step 3\n",
        "4. Slice from index 2 to 8 with step 2\n",
        "5. Slice entire list in reverse order\n",
        "6. Slice from index 10 to 0 in reverse with step -2\n",
        "7. Slice first 5 elements from the list\n",
        "8. Slice last 5 elements from the list\n",
        "9. Slice every second element from the list # Step 2 emement only\n",
        "10. Slice every third element in reverse\n",
        "11. Slice elements from index 3 to 7\n",
        "12. Slice elements from index -7 to -2\n",
        "13. Slice from index 4 to end\n",
        "14. Slice from start to index 7 (exclusive)\n",
        "15. Slice alternate elements starting from index 0 to 10\n",
        "'''\n",
        "\n",
        "# Create a list of alphabets\n",
        "a  = ['p',  'q',  'r',  's',  't',  'u',  'v',  'w',  'x',  'y',  'z']\n",
        "    #Index:0    1    2    3    4    5    6    7    8    9   10   → Positive Index # left to right.\n",
        "    #Index:-11 -10  -9   -8   -7   -6   -5   -4   -3   -2   -1   → Negative Index # right to left.\n",
        "    #[start:stop:step]\n",
        "print(\"index 1 to 9:\", a[1:10])\n",
        "print(\"index 1 to 9 with step 2 is \", a[1:10:2])\n",
        "print(\"start to end with step 3 is \", a[0:10:3]) #Not give always same output with a[::3])\n",
        "print(\"start to end with step 3 is \", a[::3])\n",
        "print(\"index 2 to 8 with step 2 is \", a[2:8:2])\n",
        "print(\"entire list in reverse order is\", a[: : -1])\n",
        "print(\"index 10 to 0 in reverse with step -2\", a[10:0:-2])\n",
        "print(\"Slice first 5 elements is\", a[0:5])\n",
        "print(\"Slice last 5 elements is\", a[-5:] )\n",
        "print(\"Slice last 5 elements is\", a[-1:-6:-1])\n",
        "print(\"Slice every second element from the list\", a[: :2])\n",
        "print(\"Slice every third element in reverse is\", a[-1:-11:-3])   # or a[: : -3])\n",
        "print(\"Slice every third element in reverse is \",a[: : -3])\n",
        "print(\"Slice elements from index 3 to 7 is \", a[3:7])\n",
        "print(\"Slice elements from index -7 to -2 is \", a[-7: -2])\n",
        "print(\"Slice from index 4 to end is\", a[4:])\n",
        "print(\"Slice from start to index 7 (exclusive) is\", a[0:7])\n",
        "print(\"Slice alternate elements starting from index 0 to 10 is\", a[0:10:2])\n",
        "\n",
        "\n"
      ],
      "metadata": {
        "colab": {
          "base_uri": "https://localhost:8080/"
        },
        "id": "CJneG8Io6jZt",
        "outputId": "0ab07d43-f4b7-48bc-b5cf-1f57e7c59c8e"
      },
      "execution_count": null,
      "outputs": [
        {
          "output_type": "stream",
          "name": "stdout",
          "text": [
            "index 1 to 9: ['q', 'r', 's', 't', 'u', 'v', 'w', 'x', 'y']\n",
            "index 1 to 9 with step 2 is  ['q', 's', 'u', 'w', 'y']\n",
            "start to end with step 3 is  ['p', 's', 'v', 'y']\n",
            "start to end with step 3 is  ['p', 's', 'v', 'y']\n",
            "index 2 to 8 with step 2 is  ['r', 't', 'v']\n",
            "entire list in reverse order is ['z', 'y', 'x', 'w', 'v', 'u', 't', 's', 'r', 'q', 'p']\n",
            "index 10 to 0 in reverse with step -2 ['z', 'x', 'v', 't', 'r']\n",
            "Slice first 5 elements is ['p', 'q', 'r', 's', 't']\n",
            "Slice last 5 elements is ['v', 'w', 'x', 'y', 'z']\n",
            "Slice last 5 elements is ['z', 'y', 'x', 'w', 'v']\n",
            "Slice every second element from the list ['p', 'r', 't', 'v', 'x', 'z']\n",
            "Slice every third element in reverse is ['z', 'w', 't', 'q']\n",
            "Slice every third element in reverse is  ['z', 'w', 't', 'q']\n",
            "Slice elements from index 3 to 7 is  ['s', 't', 'u', 'v']\n",
            "Slice elements from index -7 to -2 is  ['t', 'u', 'v', 'w', 'x']\n",
            "Slice from index 4 to end is ['t', 'u', 'v', 'w', 'x', 'y', 'z']\n",
            "Slice from start to index 7 (exclusive) is ['p', 'q', 'r', 's', 't', 'u', 'v']\n",
            "Slice alternate elements starting from index 0 to 10 is ['p', 'r', 't', 'v', 'x']\n"
          ]
        }
      ]
    },
    {
      "cell_type": "code",
      "source": [
        "#adding elements to the list #list.append() takes exactly one argument\n",
        "#listname.append('data in string',data in int)\n",
        "\n",
        "data = []\n",
        "data.append(\"2\")\n",
        "print(data)\n",
        "\n",
        "data.append(\"4\")\n",
        "print(data)\n",
        "\n",
        "data.append(\"6\")\n",
        "print(data)\n",
        "\n",
        "#adding mulitple elment at once to list\n",
        "#list.extend() takes multiple argument\n",
        "\n",
        "data.extend([8, 10, 12]) # Adding multiple elements from single list. #['2', '4', '6', 8, 10, 12]\n",
        "print(data)\n",
        "\n",
        "data.append([14, 16, 18]) # adding whole list inside list as single element\n",
        "print(data)\n",
        "\n"
      ],
      "metadata": {
        "id": "6M86d-QWX6RU",
        "colab": {
          "base_uri": "https://localhost:8080/"
        },
        "outputId": "968668c3-1e0a-4e9b-cc39-dfcb220ad494"
      },
      "execution_count": 33,
      "outputs": [
        {
          "output_type": "stream",
          "name": "stdout",
          "text": [
            "['2']\n",
            "['2', '4']\n",
            "['2', '4', '6']\n",
            "['2', '4', '6', 8, 10, 12]\n",
            "['2', '4', '6', 8, 10, 12, [14, 16, 18]]\n"
          ]
        }
      ]
    },
    {
      "cell_type": "code",
      "source": [
        "# Create the first list\n",
        "num = [1, 3, 5, 7]\n",
        "print(\"Original num list:\", num)\n",
        "\n",
        "# Create the second list\n",
        "even = [2, 4, 6, 8]\n",
        "print(\"Even numbers list to be added:\", even)\n",
        "\n",
        "# Add all elements from the 'even' list to the 'num' list using extend()\n",
        "num.extend(even)\n",
        "\n",
        "# Print the updated 'num' list\n",
        "print(\"Updated num list after extend:\", num)\n",
        "\n"
      ],
      "metadata": {
        "colab": {
          "base_uri": "https://localhost:8080/"
        },
        "id": "1Xk6apD0aoVh",
        "outputId": "f6eaf034-21b5-4970-a27a-18aa9e8da556"
      },
      "execution_count": 38,
      "outputs": [
        {
          "output_type": "stream",
          "name": "stdout",
          "text": [
            "Original num list: [1, 3, 5, 7]\n",
            "Even numbers list to be added: [2, 4, 6, 8]\n",
            "Updated num list after extend: [1, 3, 5, 7, 2, 4, 6, 8]\n"
          ]
        }
      ]
    },
    {
      "cell_type": "code",
      "source": [
        "#adding elemts to thr list at a sepcific position using insertion method\n",
        "\n",
        "fruits = ['apple', 'banana' , 'orange']\n",
        "print('og list: ',fruits)\n",
        "\n",
        "#inserting 'cherry' at index 2\n",
        "fruits.insert(2, 'cherry')\n",
        "\n",
        "print(fruits)\n",
        "\n",
        "\n",
        "#Remove elements using remove method\n",
        "# and clearing list\n",
        "\n",
        "names = ['saurabh', 'veeraj', 'sumit', 'raj']\n",
        "print(names)\n",
        "\n",
        "#remove name\n",
        "names.remove('saurabh')\n",
        "print(names)\n",
        "\n",
        "#cleraing entire list\n",
        "names.clear()\n",
        "print(names)\n",
        "\n"
      ],
      "metadata": {
        "colab": {
          "base_uri": "https://localhost:8080/"
        },
        "id": "X60t5z6pbflp",
        "outputId": "d94d72cd-50be-43ac-835b-eee4eeb14560"
      },
      "execution_count": 40,
      "outputs": [
        {
          "output_type": "stream",
          "name": "stdout",
          "text": [
            "og list:  ['apple', 'banana', 'orange']\n",
            "['apple', 'banana', 'cherry', 'orange']\n",
            "['saurabh', 'veeraj', 'sumit', 'raj']\n",
            "['veeraj', 'sumit', 'raj']\n",
            "[]\n"
          ]
        }
      ]
    },
    {
      "cell_type": "code",
      "source": [
        "# Create a list of people\n",
        "pep = ['saurabh', 'tanmay', 'mukul', 'ashish']\n",
        "print(\"Original list:\", pep)\n",
        "\n",
        "# Deleting the second item (index 1: 'tanmay')\n",
        "del pep[1]\n",
        "print(\"After deleting second item:\", pep)\n",
        "\n",
        "# Deleting item from index 1 to index 2 (i.e., 'mukul')\n",
        "# Note: End index is exclusive → pep[1:3] deletes index 1 and 2\n",
        "del pep[1:3]\n",
        "print(\"After deleting items from index 1 to 2:\", pep)\n",
        "\n",
        "# Deleting the entire list\n",
        "del pep\n",
        "\n",
        "# Trying to print the deleted list\n",
        "# This will raise an error: NameError: name 'pep' is not defined\n",
        "#print(pep)\n"
      ],
      "metadata": {
        "colab": {
          "base_uri": "https://localhost:8080/"
        },
        "id": "-EktzxPHcbLA",
        "outputId": "ed3d3c70-986c-4763-91b5-f0a42a17907c"
      },
      "execution_count": 42,
      "outputs": [
        {
          "output_type": "stream",
          "name": "stdout",
          "text": [
            "Original list: ['saurabh', 'tanmay', 'mukul', 'ashish']\n",
            "After deleting second item: ['saurabh', 'mukul', 'ashish']\n",
            "After deleting items from index 1 to 2: ['saurabh']\n"
          ]
        }
      ]
    },
    {
      "cell_type": "code",
      "source": [
        "# Remove elements using pop method.\n",
        "\n",
        "pep = ['saurabh','tanmay','mukul','ashish']\n",
        "\n",
        "print(pep)\n",
        "\n",
        "print(pep.pop())\n",
        "print(pep)\n",
        "\n",
        "\n",
        "# Original list of colors\n",
        "colors = ['red', 'black', 'green']\n",
        "print('Original list:', colors)\n",
        "\n",
        "# Updating the third item (index 2) from 'green' to 'blue'\n",
        "colors[2] = 'blue'\n",
        "\n",
        "# Printing the updated list\n",
        "print('Updated list:', colors)\n",
        "\n",
        "#length of list\n",
        "print(\"Total elements\", len(colors))"
      ],
      "metadata": {
        "colab": {
          "base_uri": "https://localhost:8080/"
        },
        "id": "gED7Cu_Wcsf3",
        "outputId": "db4c89b3-e21e-46ce-df43-3b01051cbd85"
      },
      "execution_count": 46,
      "outputs": [
        {
          "output_type": "stream",
          "name": "stdout",
          "text": [
            "['saurabh', 'tanmay', 'mukul', 'ashish']\n",
            "ashish\n",
            "['saurabh', 'tanmay', 'mukul']\n",
            "Original list: ['red', 'black', 'green']\n",
            "Updated list: ['red', 'black', 'blue']\n",
            "Total elements 3\n"
          ]
        }
      ]
    },
    {
      "cell_type": "code",
      "source": [
        "# Using count() method in list\n",
        "\n",
        "# List of numbers\n",
        "num = [1, 2, 3, 2, 5, 4,9, 2, 9, 8, 9, 7, 9]\n",
        "\n",
        "# Count how many times 2 appears\n",
        "count1 = num.count(2)\n",
        "\n",
        "# Count how many times 9 appears\n",
        "count2 = num.count(9)\n",
        "\n",
        "# Print results using f-strings\n",
        "print(f\"Number 2 appears in the given list {count1} times\")\n",
        "print(f\"Number 9 appears in the given list {count2} times\")\n"
      ],
      "metadata": {
        "colab": {
          "base_uri": "https://localhost:8080/"
        },
        "id": "75-KE0H9dbW_",
        "outputId": "a3e7546c-1a0c-43a9-851f-0eb4884cdaaa"
      },
      "execution_count": 48,
      "outputs": [
        {
          "output_type": "stream",
          "name": "stdout",
          "text": [
            "Number 2 appears in the given list 3 times\n",
            "Number 9 appears in the given list 4 times\n"
          ]
        }
      ]
    },
    {
      "cell_type": "code",
      "source": [
        "# Original list of GPAT students\n",
        "gpat_students = ['Vaibhav', 'Kishor', 'Kundlik']\n",
        "\n",
        "# ✅ Creating a real backup copy of the list\n",
        "backup_students = gpat_students.copy()\n",
        "\n",
        "# ✅ Creating just a reference (not a real copy)\n",
        "reference_students = gpat_students\n",
        "\n",
        "# Print all three lists\n",
        "print(\"Original List      :\", gpat_students)\n",
        "print(\"Backup Copy List   :\", backup_students)\n",
        "print(\"Reference List     :\", reference_students)\n",
        "\n",
        "# ✅ Now let's modify the original list\n",
        "gpat_students.append('Mangesh')\n",
        "\n",
        "# Print again to see what changed\n",
        "print(\"\\nAfter adding 'Mangesh' to original:\")\n",
        "print(\"Original List      :\", gpat_students)\n",
        "print(\"Backup Copy List   :\", backup_students)\n",
        "print(\"Reference List     :\", reference_students)\n"
      ],
      "metadata": {
        "colab": {
          "base_uri": "https://localhost:8080/"
        },
        "id": "t4A27Ppsd5Rz",
        "outputId": "3e5f3c81-ec7d-498a-c24f-ae958beeb58d"
      },
      "execution_count": 49,
      "outputs": [
        {
          "output_type": "stream",
          "name": "stdout",
          "text": [
            "Original List      : ['Vaibhav', 'Kishor', 'Kundlik']\n",
            "Backup Copy List   : ['Vaibhav', 'Kishor', 'Kundlik']\n",
            "Reference List     : ['Vaibhav', 'Kishor', 'Kundlik']\n",
            "\n",
            "After adding 'Mangesh' to original:\n",
            "Original List      : ['Vaibhav', 'Kishor', 'Kundlik', 'Mangesh']\n",
            "Backup Copy List   : ['Vaibhav', 'Kishor', 'Kundlik']\n",
            "Reference List     : ['Vaibhav', 'Kishor', 'Kundlik', 'Mangesh']\n"
          ]
        }
      ]
    },
    {
      "cell_type": "code",
      "source": [
        "# ✅ Original GPAT scores (unsorted)\n",
        "marks = [88, 74, 90, 66, 82]\n",
        "print(\"Original Marks        :\", marks)\n",
        "\n",
        "# ✅ Sorting marks in ascending order (permanently changes the list)\n",
        "marks.sort()\n",
        "print(\"Ascending Order Marks :\", marks)\n",
        "\n",
        "# ✅ Sorting marks in descending order (permanently changes the list again)\n",
        "marks.sort(reverse=True)\n",
        "print(\"Descending Order Marks:\", marks)\n",
        "\n",
        "# ✅ Using sorted() for ascending order (temporary, original list remains unchanged)\n",
        "print(\"Temporary Sorted Marks:\", sorted(marks))\n",
        "\n",
        "# ✅ Print original list again to show it remains changed after sort()\n",
        "print(\"Original List Now     :\", marks)\n"
      ],
      "metadata": {
        "colab": {
          "base_uri": "https://localhost:8080/"
        },
        "id": "iss5GpSvewXl",
        "outputId": "8775f842-8d93-4074-befb-58f19eb3f56c"
      },
      "execution_count": 50,
      "outputs": [
        {
          "output_type": "stream",
          "name": "stdout",
          "text": [
            "Original Marks        : [88, 74, 90, 66, 82]\n",
            "Ascending Order Marks : [66, 74, 82, 88, 90]\n",
            "Descending Order Marks: [90, 88, 82, 74, 66]\n",
            "Temporary Sorted Marks: [66, 74, 82, 88, 90]\n",
            "Original List Now     : [90, 88, 82, 74, 66]\n"
          ]
        }
      ]
    },
    {
      "cell_type": "code",
      "source": [
        "# ✅ Original list of cities\n",
        "city = ['pune', 'mumbai', 'nashik', 'yavatmal', 'amravati']\n",
        "print(\"Original List              :\", city)\n",
        "\n",
        "# ✅ Sort cities in alphabetical order (A to Z)\n",
        "city.sort()\n",
        "print(\"Alphabetical Order         :\", city)\n",
        "\n",
        "# ✅ Sort cities in reverse alphabetical order (Z to A)\n",
        "city.sort(reverse=True)\n",
        "print(\"Reverse Alphabetical Order :\", city)\n"
      ],
      "metadata": {
        "colab": {
          "base_uri": "https://localhost:8080/"
        },
        "id": "RQ8wY6nnfG7F",
        "outputId": "8072e794-9f20-46d7-ba22-122d7f5c0e77"
      },
      "execution_count": 51,
      "outputs": [
        {
          "output_type": "stream",
          "name": "stdout",
          "text": [
            "Original List              : ['pune', 'mumbai', 'nashik', 'yavatmal', 'amravati']\n",
            "Alphabetical Order         : ['amravati', 'mumbai', 'nashik', 'pune', 'yavatmal']\n",
            "Reverse Alphabetical Order : ['yavatmal', 'pune', 'nashik', 'mumbai', 'amravati']\n"
          ]
        }
      ]
    },
    {
      "cell_type": "code",
      "source": [
        "# ✅ Original list of strings\n",
        "text = ['abc', 'wxyz', 'gh', 'a']\n",
        "\n",
        "# ✅ Sort strings by length in ascending order (shortest to longest)\n",
        "text.sort(key=len)\n",
        "print(\"Ascending Order by Length :\", text)\n",
        "\n",
        "# ✅ Sort strings by length in descending order (longest to shortest)\n",
        "text.sort(key=len, reverse=True)\n",
        "print(\"Descending Order by Length:\", text)\n"
      ],
      "metadata": {
        "colab": {
          "base_uri": "https://localhost:8080/"
        },
        "id": "pRVEqmIgfZCt",
        "outputId": "6248876f-27a5-4021-e340-7293500e5e9c"
      },
      "execution_count": 52,
      "outputs": [
        {
          "output_type": "stream",
          "name": "stdout",
          "text": [
            "Ascending Order by Length : ['a', 'gh', 'abc', 'wxyz']\n",
            "Descending Order by Length: ['wxyz', 'abc', 'gh', 'a']\n"
          ]
        }
      ]
    },
    {
      "cell_type": "code",
      "source": [
        "# ✅ A nested list: List inside another list\n",
        "# This represents a 3x3 matrix (like a table)\n",
        "mat = [\n",
        "    [1, 2, 3],   # Row 0\n",
        "    [4, 5, 6],   # Row 1\n",
        "    [7, 8, 9]    # Row 2\n",
        "]\n",
        "\n",
        "# ✅ Accessing element from row 3 (index 2), column 2 (index 1)\n",
        "print(\"Element at Row 3, Column 2:\", mat[2][1])   # Output: 8\n",
        "\n",
        "# ❌ Uncommenting below will throw an IndexError\n",
        "# print(mat[3][1])    # IndexError: list index out of range\n"
      ],
      "metadata": {
        "id": "aLyr0B-Xf4mJ"
      },
      "execution_count": null,
      "outputs": []
    },
    {
      "cell_type": "code",
      "source": [
        "# ✅ Original list\n",
        "number = [1, 2, 3, 4]\n",
        "print(\"Original List:\", number)\n",
        "\n",
        "# ✅ Using list comprehension to double each number\n",
        "double = [i * 2 for i in number]\n",
        "print(\"Doubled List:\", double)\n"
      ],
      "metadata": {
        "colab": {
          "base_uri": "https://localhost:8080/"
        },
        "id": "qeJpd9j6g9EU",
        "outputId": "2c48b3cc-040a-4e9e-e1c3-7b211ddb95a4"
      },
      "execution_count": 53,
      "outputs": [
        {
          "output_type": "stream",
          "name": "stdout",
          "text": [
            "Original List: [1, 2, 3, 4]\n",
            "Doubled List: [2, 4, 6, 8]\n"
          ]
        }
      ]
    },
    {
      "cell_type": "code",
      "source": [
        "# ✅ Original list\n",
        "number = [1, 2, 3, 4, 5]\n",
        "print(\"Original List:\", number)\n",
        "\n",
        "# ✅ Using for loop to create a new list of squares\n",
        "sq_list = []\n",
        "for i in number:\n",
        "    sq_list.append(i * i)    # Squaring each element and appending to new list\n",
        "\n",
        "print(\"Using for loop:\", sq_list)\n",
        "\n",
        "# ✅ Using list comprehension to create the same list of squares\n",
        "sq_list1 = [num * num for num in number]\n",
        "print(\"Using list comprehension:\", sq_list1)\n"
      ],
      "metadata": {
        "colab": {
          "base_uri": "https://localhost:8080/"
        },
        "id": "Wq5otKI2halD",
        "outputId": "04a33cb2-695c-47fc-c00d-4932027b966f"
      },
      "execution_count": 54,
      "outputs": [
        {
          "output_type": "stream",
          "name": "stdout",
          "text": [
            "Original List: [1, 2, 3, 4, 5]\n",
            "Using for loop: [1, 4, 9, 16, 25]\n",
            "Using list comprehension: [1, 4, 9, 16, 25]\n"
          ]
        }
      ]
    },
    {
      "cell_type": "code",
      "source": [
        "# ✅ Using list comprehension to filter even numbers from 1 to 10\n",
        "even = [num for num in range(1, 11) if num % 2 == 0]\n",
        "print(\"Even numbers from 1 to 10:\", even)\n",
        "\n",
        "# ✅ Using list comprehension to filter even numbers from a given list\n",
        "num = [1, 2, 3, 4, 5, 6, 7, 8, 9]\n",
        "sort_even = [i for i in num if i % 2 == 0]\n",
        "print(\"Even numbers from the list:\", sort_even)\n"
      ],
      "metadata": {
        "colab": {
          "base_uri": "https://localhost:8080/"
        },
        "id": "CViQvLCuhcb6",
        "outputId": "a73f5854-baf8-49b3-a159-2e43dff74a06"
      },
      "execution_count": 55,
      "outputs": [
        {
          "output_type": "stream",
          "name": "stdout",
          "text": [
            "Even numbers from 1 to 10: [2, 4, 6, 8, 10]\n",
            "Even numbers from the list: [2, 4, 6, 8]\n"
          ]
        }
      ]
    },
    {
      "cell_type": "code",
      "source": [
        "# ✅ List of numbers\n",
        "num = [1, 2, 3, 4, 5, 6, 7, 8, 9, 10]\n",
        "\n",
        "# ✅ Use list comprehension to label each number as Even or ODD\n",
        "even_odd = ['Even' if i % 2 == 0 else 'ODD' for i in num]\n",
        "\n",
        "# ✅ Print result\n",
        "print(\"Even/Odd classification:\", even_odd)\n"
      ],
      "metadata": {
        "colab": {
          "base_uri": "https://localhost:8080/"
        },
        "id": "Z8y7QJCUh6zT",
        "outputId": "a6e726df-d13a-4895-a923-2037cb6d0424"
      },
      "execution_count": 56,
      "outputs": [
        {
          "output_type": "stream",
          "name": "stdout",
          "text": [
            "Even/Odd classification: ['ODD', 'Even', 'ODD', 'Even', 'ODD', 'Even', 'ODD', 'Even', 'ODD', 'Even']\n"
          ]
        }
      ]
    },
    {
      "cell_type": "code",
      "source": [
        "# ✅ Given word\n",
        "word = 'Saurabh'\n",
        "\n",
        "# ✅ Define vowels\n",
        "vowels = 'aeiouAEIOU'\n",
        "\n",
        "# ✅ Find vowels using list comprehension\n",
        "vowel_list = [char for char in word if char in vowels]\n",
        "print(\"Vowels:\", vowel_list)\n",
        "\n",
        "# ✅ Find consonants using list comprehension\n",
        "consonant_list = [char for char in word if char not in vowels]\n",
        "print(\"Consonants:\", consonant_list)\n"
      ],
      "metadata": {
        "colab": {
          "base_uri": "https://localhost:8080/"
        },
        "id": "D88jwjcMiVqC",
        "outputId": "6ec05f68-bf4e-4956-d115-18f2d550eb42"
      },
      "execution_count": 57,
      "outputs": [
        {
          "output_type": "stream",
          "name": "stdout",
          "text": [
            "Vowels: ['a', 'u', 'a']\n",
            "Consonants: ['S', 'r', 'b', 'h']\n"
          ]
        }
      ]
    },
    {
      "cell_type": "code",
      "source": [
        "# ✅ Create an empty list to store marks\n",
        "marks = []\n",
        "\n",
        "# ✅ Ask user if they want to enter marks\n",
        "res = input(\"Do you want to enter some data? (y/n): \")\n",
        "\n",
        "# ✅ Loop to take marks input until user says 'n'\n",
        "while res.lower() == \"y\":\n",
        "    m = int(input(\"Enter marks: \"))\n",
        "    marks.append(m)\n",
        "    res = input(\"Do you want to enter more marks? (y/n): \")\n",
        "\n",
        "# ✅ Initialize counters\n",
        "c1, c2, c3, c4 = 0, 0, 0, 0\n",
        "\n",
        "# ✅ Categorize marks into 4 groups\n",
        "for m in marks:\n",
        "    if m > 80:\n",
        "        c1 += 1     # Count of marks > 80\n",
        "    elif m > 60:\n",
        "        c2 += 1     # Count of marks > 60 and ≤ 80\n",
        "    elif m > 40:\n",
        "        c3 += 1     # Count of marks > 40 and ≤ 60\n",
        "    else:\n",
        "        c4 += 1     # Count of marks ≤ 40\n",
        "\n",
        "# ✅ Print result\n",
        "print(\"Marks > 80:\", c1)\n",
        "print(\"Marks > 60:\", c2)\n",
        "print(\"Marks > 40:\", c3)\n",
        "print(\"Marks ≤ 40:\", c4)\n"
      ],
      "metadata": {
        "colab": {
          "base_uri": "https://localhost:8080/"
        },
        "id": "lvdHlzdNjBDS",
        "outputId": "517fa4d0-0927-4479-e9ee-a5b91ba083d2"
      },
      "execution_count": 58,
      "outputs": [
        {
          "output_type": "stream",
          "name": "stdout",
          "text": [
            "Do you want to enter some data? (y/n): y\n",
            "Enter marks: 60\n",
            "Do you want to enter more marks? (y/n): y\n",
            "Enter marks: 78\n",
            "Do you want to enter more marks? (y/n): n\n",
            "Marks > 80: 0\n",
            "Marks > 60: 1\n",
            "Marks > 40: 1\n",
            "Marks ≤ 40: 0\n"
          ]
        }
      ]
    },
    {
      "cell_type": "markdown",
      "source": [
        "# New Section"
      ],
      "metadata": {
        "id": "XliX9gwzjkHT"
      }
    }
  ]
}